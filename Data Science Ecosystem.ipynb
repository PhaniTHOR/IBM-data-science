{
 "cells": [
  {
   "cell_type": "markdown",
   "id": "1322842c",
   "metadata": {},
   "source": [
    "# Data Science Tools and Ecosystem"
   ]
  },
  {
   "cell_type": "markdown",
   "id": "6e5d34f9",
   "metadata": {},
   "source": [
    "In this notebook, Data Science Tools and Ecosystem are summarized."
   ]
  },
  {
   "cell_type": "markdown",
   "id": "52c7c088",
   "metadata": {},
   "source": [
    "Some of the popular languages that Data Scientists use are:\n",
    "\n",
    "    1. Python\n",
    "    2. SQL\n",
    "    3. R\n",
    "    4. Java\n",
    "    5. C++ "
   ]
  },
  {
   "cell_type": "markdown",
   "id": "03a7e04c",
   "metadata": {},
   "source": [
    "Some of the commonly used libraries used by Data Scientists include:\n",
    "\n",
    "1. NumPy\n",
    "2. Keras\n",
    "3. Pandas\n",
    "4. PyTorch\n",
    "5. SciPy\n",
    "6. Scikit-Learn\n",
    "7. TensorFlow\n",
    "8. Matplotlib"
   ]
  },
  {
   "cell_type": "markdown",
   "id": "8d28d6d1",
   "metadata": {},
   "source": [
    "|**Data Science Tools**|\n",
    "|:-------:|\n",
    "|Apache Spark|\n",
    "|Tableau|\n",
    "|TensorFlow|"
   ]
  },
  {
   "cell_type": "markdown",
   "id": "b458796b",
   "metadata": {},
   "source": [
    "Below are a few examples of evaluating arithmetic expressions in Python."
   ]
  },
  {
   "cell_type": "code",
   "execution_count": 5,
   "id": "28abf2cf",
   "metadata": {},
   "outputs": [
    {
     "data": {
      "text/plain": [
       "17"
      ]
     },
     "execution_count": 5,
     "metadata": {},
     "output_type": "execute_result"
    }
   ],
   "source": [
    "(3*4)+5\n",
    "#This a simple arithmetic expression to mutiply then add integers"
   ]
  },
  {
   "cell_type": "code",
   "execution_count": 6,
   "id": "32c79806",
   "metadata": {},
   "outputs": [
    {
     "data": {
      "text/plain": [
       "3.3333333333333335"
      ]
     },
     "execution_count": 6,
     "metadata": {},
     "output_type": "execute_result"
    }
   ],
   "source": [
    "200/60\n",
    "#This will convert 200 minutes to hours by diving by 60"
   ]
  },
  {
   "cell_type": "markdown",
   "id": "22a58f41",
   "metadata": {},
   "source": [
    "**Objectives**\n",
    "1. List of popular languages for Data Science\n",
    "2. List of commonly used libraries for Data Science\n",
    "3. List of mostly used Data Science Tools."
   ]
  },
  {
   "cell_type": "markdown",
   "id": "1d81f9d8",
   "metadata": {},
   "source": [
    "## Author\n",
    "### Siddam Sai Phanindra"
   ]
  },
  {
   "cell_type": "markdown",
   "id": "9a9bb173",
   "metadata": {},
   "source": [
    "[Github](https://github.com/PhaniTHOR/IBM-data-science/tree/main)"
   ]
  },
  {
   "cell_type": "code",
   "execution_count": null,
   "id": "f7321929",
   "metadata": {},
   "outputs": [],
   "source": []
  }
 ],
 "metadata": {
  "kernelspec": {
   "display_name": "Python 3 (ipykernel)",
   "language": "python",
   "name": "python3"
  },
  "language_info": {
   "codemirror_mode": {
    "name": "ipython",
    "version": 3
   },
   "file_extension": ".py",
   "mimetype": "text/x-python",
   "name": "python",
   "nbconvert_exporter": "python",
   "pygments_lexer": "ipython3",
   "version": "3.11.5"
  }
 },
 "nbformat": 4,
 "nbformat_minor": 5
}
